{
 "cells": [
  {
   "cell_type": "code",
   "execution_count": 32,
   "metadata": {},
   "outputs": [],
   "source": [
    "import xmltodict\n",
    "from collections.abc import MutableMapping"
   ]
  },
  {
   "cell_type": "code",
   "execution_count": 33,
   "metadata": {},
   "outputs": [],
   "source": [
    "def _flatten_dict_generator(d: MutableMapping, parent_key: str = \"\", sep: str = \".\"):\n",
    "    \"\"\"\n",
    "    Generator to flatten dictionary recursively\n",
    "\n",
    "    Args:\n",
    "        d (dict): Dictionary to flatten\n",
    "        parent_key (str): String of parent dictionary\n",
    "        sep (str): String used to seperate keys in flattened dictionary\n",
    "    \"\"\"\n",
    "\n",
    "    for k, v in d.items():\n",
    "        new_key = f\"{parent_key}{sep}{k}\" if parent_key else k\n",
    "        if isinstance(v, MutableMapping):\n",
    "            yield from flatten_dict(v, new_key, sep=sep).items()\n",
    "        else:\n",
    "            yield new_key, v\n",
    "\n",
    "\n",
    "def flatten_dict(d: MutableMapping, parent_key: str = \"\", sep: str = \".\"):\n",
    "    \"\"\"\n",
    "    Leverages _flatten_dict_generator to flatter dictionary recursively\n",
    "\n",
    "    Args:\n",
    "        d (dict): Dictionary to flatten\n",
    "        parent_key (str): String of parent dictionary\n",
    "        sep (str): String used to seperate keys in flattened dictionary\n",
    "    \"\"\"\n",
    "    return dict(_flatten_dict_generator(d, parent_key, sep))\n"
   ]
  },
  {
   "cell_type": "code",
   "execution_count": 34,
   "metadata": {},
   "outputs": [],
   "source": [
    "class Node:\n",
    "    \"\"\"\n",
    "    Builds a Node object from a provided Alteryx tool node\n",
    "\n",
    "    Args:\n",
    "        node (dict): Dictionary that represents to alteryx tool\n",
    "    \"\"\"\n",
    "\n",
    "    def __init__(self, node):\n",
    "        for k, v in flatten_dict(node).items():\n",
    "            setattr(self, k, v)"
   ]
  },
  {
   "cell_type": "code",
   "execution_count": 39,
   "metadata": {},
   "outputs": [
    {
     "name": "stdout",
     "output_type": "stream",
     "text": [
      "23\n",
      "{'@ToolID': '48', 'GuiSettings': {'@Plugin': 'AlteryxGuiToolkit.TextBox.TextBox', 'Position': {'@x': '54', '@y': '522', '@width': '216', '@height': '240'}}, 'Properties': {'Configuration': {'Text': 'Input', 'Font': {'@name': 'Arial', '@size': '8.25', '@style': '0'}, 'TextColor': {'@name': 'Black'}, 'FillColor': {'@name': 'White'}, 'Shape': {'@shape': '0'}, 'Justification': {'@Justification': '4'}}, 'Annotation': {'@DisplayMode': '0', 'Name': None, 'DefaultAnnotationText': None, 'Left': {'@value': 'False'}}}}\n",
      "<class 'dict'>\n",
      "['Properties.Configuration.File.#text']\n",
      "@ToolID - 5\n",
      "GuiSettings.@Plugin - AlteryxBasePluginsGui.DbFileInput.DbFileInput\n",
      "GuiSettings.Position.@x - 78\n",
      "GuiSettings.Position.@y - 666\n",
      "Properties.Configuration.Passwords - None\n",
      "Properties.Configuration.File.@OutputFileName - \n",
      "Properties.Configuration.File.@FileFormat - 19\n",
      "Properties.Configuration.File.@SearchSubDirs - False\n",
      "Properties.Configuration.File.@RecordLimit - \n",
      "Properties.Configuration.File.#text - Continents.yxdb\n",
      "Properties.Configuration.FormatSpecificOptions - None\n",
      "Properties.Annotation.@DisplayMode - 0\n",
      "Properties.Annotation.Name - None\n",
      "Properties.Annotation.DefaultAnnotationText - Continents.yxdb\n",
      "Properties.Annotation.Left.@value - False\n",
      "Properties.MetaInfo.@connection - Output\n",
      "Properties.MetaInfo.RecordInfo.Field - [{'@name': 'name', '@size': '254', '@source': 'File: C:\\\\Users\\\\ana.muniz\\\\OneDrive - alteryx.com\\\\Desktop\\\\Women challenge data\\\\continents2.csv', '@type': 'V_WString'}, {'@name': 'alpha-2', '@size': '254', '@source': 'File: C:\\\\Users\\\\ana.muniz\\\\OneDrive - alteryx.com\\\\Desktop\\\\Women challenge data\\\\continents2.csv', '@type': 'V_WString'}, {'@name': 'alpha-3', '@size': '254', '@source': 'File: C:\\\\Users\\\\ana.muniz\\\\OneDrive - alteryx.com\\\\Desktop\\\\Women challenge data\\\\continents2.csv', '@type': 'V_WString'}, {'@name': 'country-code', '@size': '254', '@source': 'File: C:\\\\Users\\\\ana.muniz\\\\OneDrive - alteryx.com\\\\Desktop\\\\Women challenge data\\\\continents2.csv', '@type': 'V_WString'}, {'@name': 'iso_3166-2', '@size': '254', '@source': 'File: C:\\\\Users\\\\ana.muniz\\\\OneDrive - alteryx.com\\\\Desktop\\\\Women challenge data\\\\continents2.csv', '@type': 'V_WString'}, {'@name': 'region', '@size': '254', '@source': 'File: C:\\\\Users\\\\ana.muniz\\\\OneDrive - alteryx.com\\\\Desktop\\\\Women challenge data\\\\continents2.csv', '@type': 'V_WString'}, {'@name': 'sub-region', '@size': '254', '@source': 'File: C:\\\\Users\\\\ana.muniz\\\\OneDrive - alteryx.com\\\\Desktop\\\\Women challenge data\\\\continents2.csv', '@type': 'V_WString'}, {'@name': 'intermediate-region', '@size': '254', '@source': 'File: C:\\\\Users\\\\ana.muniz\\\\OneDrive - alteryx.com\\\\Desktop\\\\Women challenge data\\\\continents2.csv', '@type': 'V_WString'}, {'@name': 'region-code', '@size': '254', '@source': 'File: C:\\\\Users\\\\ana.muniz\\\\OneDrive - alteryx.com\\\\Desktop\\\\Women challenge data\\\\continents2.csv', '@type': 'V_WString'}, {'@name': 'sub-region-code', '@size': '254', '@source': 'File: C:\\\\Users\\\\ana.muniz\\\\OneDrive - alteryx.com\\\\Desktop\\\\Women challenge data\\\\continents2.csv', '@type': 'V_WString'}, {'@name': 'intermediate-region-code', '@size': '254', '@source': 'File: C:\\\\Users\\\\ana.muniz\\\\OneDrive - alteryx.com\\\\Desktop\\\\Women challenge data\\\\continents2.csv', '@type': 'V_WString'}]\n",
      "EngineSettings.@EngineDll - AlteryxBasePluginsEngine.dll\n",
      "EngineSettings.@EngineDllEntryPoint - AlteryxDbFileInput\n"
     ]
    }
   ],
   "source": [
    "if __name__ == \"__main__\":\n",
    "    with open(\"./test_files/Challenge 320 completed.yxmd\") as f:\n",
    "        doc = xmltodict.parse(f.read(), dict_constructor=dict)\n",
    "        print(len(doc[\"AlteryxDocument\"][\"Nodes\"][\"Node\"]))\n",
    "        print(doc[\"AlteryxDocument\"][\"Nodes\"][\"Node\"][1])\n",
    "\n",
    "        tst = Node(doc[\"AlteryxDocument\"][\"Nodes\"][\"Node\"][3])\n",
    "\n",
    "        print(type(vars(tst)))\n",
    "\n",
    "        dict_contains = [key for key in vars(tst) if 'File.#text' in key]\n",
    "\n",
    "        print(dict_contains)\n",
    "\n",
    "        for var in vars(tst):\n",
    "            print(f'{var} - {getattr(tst, var)}')\n",
    "\n"
   ]
  },
  {
   "cell_type": "code",
   "execution_count": null,
   "metadata": {},
   "outputs": [],
   "source": []
  }
 ],
 "metadata": {
  "kernelspec": {
   "display_name": "Python 3.10.5 64-bit",
   "language": "python",
   "name": "python3"
  },
  "language_info": {
   "codemirror_mode": {
    "name": "ipython",
    "version": 3
   },
   "file_extension": ".py",
   "mimetype": "text/x-python",
   "name": "python",
   "nbconvert_exporter": "python",
   "pygments_lexer": "ipython3",
   "version": "3.10.5"
  },
  "orig_nbformat": 4,
  "vscode": {
   "interpreter": {
    "hash": "949777d72b0d2535278d3dc13498b2535136f6dfe0678499012e853ee9abcab1"
   }
  }
 },
 "nbformat": 4,
 "nbformat_minor": 2
}
